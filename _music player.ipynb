{
 "cells": [
  {
   "cell_type": "code",
   "execution_count": 2,
   "id": "c514772c",
   "metadata": {},
   "outputs": [
    {
     "name": "stdout",
     "output_type": "stream",
     "text": [
      "Pop Music\n",
      "Hip hop Music\n",
      "Rock Music\n",
      "Soul Music\n",
      "Country Music\n",
      "Funk Music\n",
      "Jazz Music\n",
      "Classical music\n",
      "New-age Music\n",
      "Enter the genre you want to play songs in:\n",
      "Pop Music\n",
      "Enter the language of the song you want to play it in Telugu Hindi or English:English\n",
      "Here are the available songs\n",
      "Blinding Lights\n",
      "Don't Start Now\n",
      "Watermelon Sugar\n",
      "Good 4 U\n",
      "Levitating\n",
      "enter the song you want to playLevitating\n",
      "Enter the time you want to play the song30\n",
      "song is playing\n"
     ]
    }
   ],
   "source": [
    "import multiprocessing\n",
    "from playsound import playsound\n",
    "import time\n",
    "import json\n",
    "with open(\"categories.json\",'r') as fp:\n",
    "    z=fp.read()\n",
    "    w=json.loads(z)\n",
    "    b=w[\"Genres\"]\n",
    "    for i in range(0,len(b)):\n",
    "        print(b[i])\n",
    "fp=open(\"songs.json\",\"r\")\n",
    "x=fp.read()\n",
    "y=json.loads(x)\n",
    "song_genre=input(\"Enter the genre you want to play songs in:\\n\")\n",
    "a=y[song_genre]\n",
    "song_language=input(\"Enter the language of the song you want to play it in Telugu Hindi or English:\")\n",
    "print(\"Here are the available songs\")\n",
    "c=a[song_language]\n",
    "for i in c:\n",
    "    print(i)\n",
    "song=input(\"enter the song you want to play\")\n",
    "s=\"C:\\\\Users\\\\HP\\\\Music\\\\\"+song+\".mp3\"\n",
    "p = multiprocessing.Process(target=playsound, args=(s,))\n",
    "t=int(input(\"Enter the time you want to play the song\"))\n",
    "p.start()\n",
    "print(\"song is playing\")\n",
    "time.sleep(t)\n",
    "p.terminate()"
   ]
  },
  {
   "cell_type": "code",
   "execution_count": 4,
   "id": "eab69586",
   "metadata": {},
   "outputs": [
    {
     "name": "stdout",
     "output_type": "stream",
     "text": [
      "OPENING SPOTIFY\n"
     ]
    }
   ],
   "source": [
    "from AppOpener import open\n",
    "open(\"spotify\")"
   ]
  },
  {
   "cell_type": "code",
   "execution_count": null,
   "id": "3cef5c03",
   "metadata": {},
   "outputs": [],
   "source": []
  }
 ],
 "metadata": {
  "kernelspec": {
   "display_name": "Python 3 (ipykernel)",
   "language": "python",
   "name": "python3"
  },
  "language_info": {
   "codemirror_mode": {
    "name": "ipython",
    "version": 3
   },
   "file_extension": ".py",
   "mimetype": "text/x-python",
   "name": "python",
   "nbconvert_exporter": "python",
   "pygments_lexer": "ipython3",
   "version": "3.11.3"
  }
 },
 "nbformat": 4,
 "nbformat_minor": 5
}
